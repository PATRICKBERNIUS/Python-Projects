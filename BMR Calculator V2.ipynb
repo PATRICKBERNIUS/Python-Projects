{
 "cells": [
  {
   "cell_type": "code",
   "execution_count": 12,
   "id": "db0bfd9a-1769-4672-8de4-e5b224dab73d",
   "metadata": {},
   "outputs": [
    {
     "name": "stdin",
     "output_type": "stream",
     "text": [
      "Enter your weight in lbs:  170\n",
      "Enter your height in inches:  73\n",
      "Enter your age in years:  22\n",
      "Enter your gender (male/female):  male\n"
     ]
    },
    {
     "name": "stdout",
     "output_type": "stream",
     "text": [
      "Activity Levels:\n",
      "1. Sedentary (little or no exercise)\n",
      "2. Lightly active (light exercise/sports 1-3 days/week)\n",
      "3. Moderately active (moderate exercise/sports 3-5 days/week)\n",
      "4. Very active (hard exercise/sports 6-7 days a week)\n",
      "5. Super active (very hard exercise/physical job & exercise 2x/day)\n"
     ]
    },
    {
     "name": "stdin",
     "output_type": "stream",
     "text": [
      "Enter your activity level:  very active\n"
     ]
    },
    {
     "name": "stdout",
     "output_type": "stream",
     "text": [
      "Your Basal Metabolic Rate (BMR) is: 1824.98 calories/day\n",
      "Your Total Daily Energy Expenditure (TDEE) is: 3148.09 calories/day\n"
     ]
    }
   ],
   "source": [
    "def calculate_bmr(weight, height, age, gender):\n",
    "    if gender.lower() == 'male':\n",
    "        bmr = 10 * weight + 6.25 * height - 5 * age + 5\n",
    "    elif gender.lower() == 'female':\n",
    "        bmr = 10 * weight + 6.25 * height - 5 * age - 161\n",
    "    else:\n",
    "        raise ValueError(\"Gender must be 'male' or 'female'\")\n",
    "    \n",
    "    return bmr\n",
    "\n",
    "def calculate_tdee(bmr, activity_level):\n",
    "    activity_multipliers = {\n",
    "        \"sedentary\": 1.2,\n",
    "        \"lightly active\": 1.375,\n",
    "        \"moderately active\": 1.55,\n",
    "        \"very active\": 1.725,\n",
    "        \"super active\": 1.9\n",
    "    }\n",
    "    \n",
    "    return bmr * activity_multipliers.get(activity_level.lower(), 1.2)\n",
    "\n",
    "# User input\n",
    "weight = float(input(\"Enter your weight in lbs: \")) * 0.453592\n",
    "height = float(input(\"Enter your height in inches: \")) * 2.54\n",
    "age = int(input(\"Enter your age in years: \"))\n",
    "gender = input(\"Enter your gender (male/female): \")\n",
    "\n",
    "# Activity level options\n",
    "print(\"Activity Levels:\")\n",
    "print(\"1. Sedentary (little or no exercise)\")\n",
    "print(\"2. Lightly active (light exercise/sports 1-3 days/week)\")\n",
    "print(\"3. Moderately active (moderate exercise/sports 3-5 days/week)\")\n",
    "print(\"4. Very active (hard exercise/sports 6-7 days a week)\")\n",
    "print(\"5. Super active (very hard exercise/physical job & exercise 2x/day)\")\n",
    "\n",
    "activity_level = input(\"Enter your activity level: \")\n",
    "\n",
    "# Calculate BMR and TDEE\n",
    "try:\n",
    "    bmr_value = calculate_bmr(weight, height, age, gender)\n",
    "    tdee_value = calculate_tdee(bmr_value, activity_level)\n",
    "    \n",
    "    print(f\"Your Basal Metabolic Rate (BMR) is: {bmr_value:.2f} calories/day\")\n",
    "    print(f\"Your Total Daily Energy Expenditure (TDEE) is: {tdee_value:.2f} calories/day\")\n",
    "except ValueError as e:\n",
    "    print(e)"
   ]
  },
  {
   "cell_type": "code",
   "execution_count": null,
   "id": "294f8203-f573-4ab2-a482-16b2b9506814",
   "metadata": {},
   "outputs": [],
   "source": []
  }
 ],
 "metadata": {
  "kernelspec": {
   "display_name": "Python 3 (ipykernel)",
   "language": "python",
   "name": "python3"
  },
  "language_info": {
   "codemirror_mode": {
    "name": "ipython",
    "version": 3
   },
   "file_extension": ".py",
   "mimetype": "text/x-python",
   "name": "python",
   "nbconvert_exporter": "python",
   "pygments_lexer": "ipython3",
   "version": "3.12.4"
  }
 },
 "nbformat": 4,
 "nbformat_minor": 5
}
